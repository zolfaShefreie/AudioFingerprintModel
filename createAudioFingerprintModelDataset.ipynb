{
  "nbformat": 4,
  "nbformat_minor": 0,
  "metadata": {
    "colab": {
      "name": "createAudioFingerprintModelDataset.ipynb",
      "provenance": [],
      "collapsed_sections": []
    },
    "kernelspec": {
      "name": "python3",
      "display_name": "Python 3"
    },
    "language_info": {
      "name": "python"
    }
  },
  "cells": [
    {
      "cell_type": "code",
      "metadata": {
        "id": "ufn8b0KdZWNH"
      },
      "source": [
        "import zipfile\n",
        "with zipfile.ZipFile(\"./YouTube-music-video-5M.zip\", 'r') as zip_ref:\n",
        "    zip_ref.extractall(\".\")"
      ],
      "execution_count": null,
      "outputs": []
    },
    {
      "cell_type": "code",
      "metadata": {
        "colab": {
          "base_uri": "https://localhost:8080/"
        },
        "id": "Z39aleGi2Hxx",
        "outputId": "2d2b4804-9475-41ca-d984-f84fb30c3254"
      },
      "source": [
        "from google.colab import drive\n",
        "drive.mount('/content/drive')"
      ],
      "execution_count": null,
      "outputs": [
        {
          "output_type": "stream",
          "text": [
            "Mounted at /content/drive\n"
          ],
          "name": "stdout"
        }
      ]
    },
    {
      "cell_type": "code",
      "metadata": {
        "id": "ZO678iXCvbt9"
      },
      "source": [
        "import os\n",
        "dir_to_files = \"./YouTube-music-video-5M-master/youtube_ids\"\n",
        "dataset_dir = \"./drive/MyDrive/dataset2\"\n",
        "\n",
        "if not os.path.exists(dataset_dir):\n",
        "    os.mkdir(dataset_dir)\n",
        "# exteract_feature_queue = []\n",
        "# ids = []"
      ],
      "execution_count": null,
      "outputs": []
    },
    {
      "cell_type": "code",
      "metadata": {
        "colab": {
          "base_uri": "https://localhost:8080/"
        },
        "id": "oKhrxBe-vo6F",
        "outputId": "5c95e8ce-eff5-415d-bc34-bd70fd5f3b23"
      },
      "source": [
        "import os\n",
        "files = [dir_to_files+'/'+path for path in os.listdir(dir_to_files)]\n",
        "files"
      ],
      "execution_count": null,
      "outputs": [
        {
          "output_type": "execute_result",
          "data": {
            "text/plain": [
              "['./YouTube-music-video-5M-master/youtube_ids/youtube_video_ids_02_242353.txt',\n",
              " './YouTube-music-video-5M-master/youtube_ids/youtube_video_ids_17_247362.txt',\n",
              " './YouTube-music-video-5M-master/youtube_ids/youtube_video_ids_18_250524.txt',\n",
              " './YouTube-music-video-5M-master/youtube_ids/youtube_video_ids_04_249301.txt',\n",
              " './YouTube-music-video-5M-master/youtube_ids/youtube_video_ids_15_250890.txt',\n",
              " './YouTube-music-video-5M-master/youtube_ids/youtube_video_ids_09_251585.txt',\n",
              " './YouTube-music-video-5M-master/youtube_ids/youtube_video_ids_01_235614.txt',\n",
              " './YouTube-music-video-5M-master/youtube_ids/youtube_video_ids_16_250165.txt',\n",
              " './YouTube-music-video-5M-master/youtube_ids/youtube_video_ids_00_206947.txt',\n",
              " './YouTube-music-video-5M-master/youtube_ids/youtube_video_ids_07_255766.txt',\n",
              " './YouTube-music-video-5M-master/youtube_ids/youtube_video_ids_08_252801.txt',\n",
              " './YouTube-music-video-5M-master/youtube_ids/youtube_video_ids_11_248030.txt',\n",
              " './YouTube-music-video-5M-master/youtube_ids/youtube_video_ids_12_248831.txt',\n",
              " './YouTube-music-video-5M-master/youtube_ids/youtube_video_ids_03_244387.txt',\n",
              " './YouTube-music-video-5M-master/youtube_ids/youtube_video_ids_13_247658.txt',\n",
              " './YouTube-music-video-5M-master/youtube_ids/youtube_video_ids_19_246323.txt',\n",
              " './YouTube-music-video-5M-master/youtube_ids/youtube_video_ids_14_247557.txt',\n",
              " './YouTube-music-video-5M-master/youtube_ids/youtube_video_ids_06_247838.txt',\n",
              " './YouTube-music-video-5M-master/youtube_ids/youtube_video_ids_05_248627.txt',\n",
              " './YouTube-music-video-5M-master/youtube_ids/youtube_video_ids_20_195192.txt',\n",
              " './YouTube-music-video-5M-master/youtube_ids/youtube_video_ids_10_252204.txt']"
            ]
          },
          "metadata": {},
          "execution_count": 4
        }
      ]
    },
    {
      "cell_type": "code",
      "metadata": {
        "id": "1WFoWARm-rel"
      },
      "source": [
        "# import shutil\n",
        "\n",
        "# shutil.rmtree('./audio')"
      ],
      "execution_count": null,
      "outputs": []
    },
    {
      "cell_type": "code",
      "metadata": {
        "id": "47SdQjRbvpEM"
      },
      "source": [
        "import re\n",
        "\n",
        "def get_music_ids(file_path):\n",
        "  \"\"\"\n",
        "  get all music ids of a file based on below pattern\n",
        "  # new artist: Drake 3TVXtAsR1Inumwj472S9r4\n",
        "\n",
        "   3t195yz9xCc\n",
        "   VkXjvHfP3MM\n",
        "   7LnBvuzjpr4\n",
        "   1Ldzm7KGECI\n",
        "   HL1UzIK-flA\n",
        "   3XR5mhXtpXw\n",
        "   WsPfSXJaelk\n",
        "  \"\"\"\n",
        "  regex = r\"\\n(?![#])(.+)\"\n",
        "\n",
        "  f = open(file_path, 'r')\n",
        "  return re.findall(regex, f.read())"
      ],
      "execution_count": null,
      "outputs": []
    },
    {
      "cell_type": "code",
      "metadata": {
        "colab": {
          "base_uri": "https://localhost:8080/"
        },
        "id": "cTiYcuNbYHHP",
        "outputId": "234f6dd1-c190-4149-c92b-92602a686587"
      },
      "source": [
        "len(get_music_ids(files[1]))"
      ],
      "execution_count": null,
      "outputs": [
        {
          "output_type": "execute_result",
          "data": {
            "text/plain": [
              "247362"
            ]
          },
          "metadata": {},
          "execution_count": 6
        }
      ]
    },
    {
      "cell_type": "code",
      "metadata": {
        "colab": {
          "base_uri": "https://localhost:8080/"
        },
        "id": "HzIgig3ApgZA",
        "outputId": "4de2b979-ea1f-4719-d171-8114d92d1bb2"
      },
      "source": [
        "!pip install youtube_dl"
      ],
      "execution_count": null,
      "outputs": [
        {
          "output_type": "stream",
          "text": [
            "Collecting youtube_dl\n",
            "  Downloading youtube_dl-2021.6.6-py2.py3-none-any.whl (1.9 MB)\n",
            "\u001b[K     |████████████████████████████████| 1.9 MB 4.1 MB/s \n",
            "\u001b[?25hInstalling collected packages: youtube-dl\n",
            "Successfully installed youtube-dl-2021.6.6\n"
          ],
          "name": "stdout"
        }
      ]
    },
    {
      "cell_type": "code",
      "metadata": {
        "id": "Lv5JRDKWotwA"
      },
      "source": [
        "from __future__ import unicode_literals\n",
        "import youtube_dl\n",
        "\n",
        "\n",
        "def download_music(music_urls: list):\n",
        "  \"\"\"\n",
        "  download a list of youtube urls\n",
        "  \"\"\"\n",
        "\n",
        "  ydl_opts = {\n",
        "      # 'proxy': 'socks5://5.252.161.48:1080',\n",
        "      'force-ipv4': True,\n",
        "      \"external-downloader\": \"aria2c\",\n",
        "      \"external-downloader-args\": \"-x 16 -s 16 -k 1M\",\n",
        "      'ignoreerrors': True,\n",
        "      'format': 'bestaudio/best',\n",
        "      'extractaudio' : True,      # only keep the audio\n",
        "      'audioformat' : \"wav\",      # convert to mp3 \n",
        "      'outtmpl': './audio/%(id)s.wav',        # name the file the ID of the video\n",
        "      'noplaylist' : True,\n",
        "      'max-filesize': '10m',\n",
        "      'quiet': True,\n",
        "      'no-warnings': True\n",
        "  }\n",
        "  with youtube_dl.YoutubeDL(ydl_opts) as ydl:\n",
        "      ydl.download(music_urls)"
      ],
      "execution_count": null,
      "outputs": []
    },
    {
      "cell_type": "code",
      "metadata": {
        "id": "fpc_uBP7m_yf"
      },
      "source": [
        "def get_youtube_urls(music_ids: list) -> list:\n",
        "  \"\"\"\n",
        "  get id and return youtube url\n",
        "  example:\n",
        "  7ZUMRECYLOQ => https://www.youtube.com/watch?v=7ZUMRECYLOQ\n",
        "  \"\"\"\n",
        "  base_url = \"https://www.youtube.com/watch?v={}\"\n",
        "  return [base_url.format(music_id) for music_id in music_ids]"
      ],
      "execution_count": null,
      "outputs": []
    },
    {
      "cell_type": "code",
      "metadata": {
        "id": "ktGG5d7h0Drz"
      },
      "source": [
        "sample_rate = 16000\n",
        "hop_length = int(sample_rate * 0.01)\n",
        "n_fft = int(sample_rate * 0.02)"
      ],
      "execution_count": null,
      "outputs": []
    },
    {
      "cell_type": "code",
      "metadata": {
        "id": "V89fIWbtn4Ll"
      },
      "source": [
        "import librosa\n",
        "import numpy as np\n",
        "\n",
        "def get_audio_features(file_path: str) -> np.ndarray:\n",
        "  \"\"\"\n",
        "  extract features from audio file\n",
        "  \"\"\"\n",
        "  try:\n",
        "    x, sr = librosa.load(file_path, sample_rate, res_type=\"kaiser_fast\")\n",
        "    chromagram = librosa.feature.chroma_cens(x, sr=sr, hop_length=hop_length, n_octaves=6)\n",
        "  except Exception as e:\n",
        "      print(e)\n",
        "      return None\n",
        "  os.remove(file_path)\n",
        "  return chromagram.transpose()"
      ],
      "execution_count": null,
      "outputs": []
    },
    {
      "cell_type": "code",
      "metadata": {
        "id": "Dz1Wspb_QoP0"
      },
      "source": [
        "import time\n",
        "\n",
        "def check_limits_for_download(music_urls: list) -> list:\n",
        "  \"\"\"\n",
        "  if the size or duration is ok it is allowed to download\n",
        "  return allowed list\n",
        "  \"\"\"\n",
        "  MAX_DURATION = 600\n",
        "  MAX_SIZE = 10485760 # 10M\n",
        "\n",
        "  allowed = list()\n",
        "  for url in music_urls:\n",
        "    audio_downloder = youtube_dl.YoutubeDL({'format':'bestaudio', \n",
        "                                            \"external-downloader\": \"aria2c\",\n",
        "                                            \"external-downloader-args\": \"-x 16 -s 16 -k 1M\",\n",
        "                                            'ignoreerrors': True,\n",
        "                                            'quiet': True, \n",
        "                                            'no-warnings': True})\n",
        "    info = audio_downloder.extract_info(url, download=False) \n",
        "    if info and info.get('duration', float('inf')) <= MAX_DURATION and info.get('filesize', float('inf')) <= MAX_SIZE:\n",
        "      allowed.append(url)\n",
        "    if not info:\n",
        "      time.sleep(0.2)\n",
        "  return allowed\n",
        "\n",
        "  "
      ],
      "execution_count": null,
      "outputs": []
    },
    {
      "cell_type": "code",
      "metadata": {
        "id": "hN8anzvTlBpi"
      },
      "source": [
        "def block_management(music_ids: list) -> list:\n",
        "  \"\"\"\n",
        "  get url of ids + download them as audio + extract features\n",
        "  \"\"\"\n",
        "  allowed = check_limits_for_download(get_youtube_urls(music_ids))\n",
        "  download_music(allowed)\n",
        "  features = list()\n",
        "  for each in music_ids:\n",
        "    result = get_audio_features(f\"./audio/{each}.wav\")\n",
        "    if result is not None:\n",
        "      features.append(result)\n",
        "  print(f'+++++++++++++++++++++++++++++++++++over=>{len(features)}element, allowed: {len(allowed)}+++++++++++++++++++++++++++++')\n",
        "  return features"
      ],
      "execution_count": null,
      "outputs": []
    },
    {
      "cell_type": "code",
      "metadata": {
        "colab": {
          "base_uri": "https://localhost:8080/"
        },
        "id": "SkEYF53ZnOU_",
        "outputId": "d1245897-7935-41d3-8518-2db15bdc98f3"
      },
      "source": [
        "music_ids_list = [each for path in files for each in get_music_ids(path)]\n",
        "\n",
        "len(music_ids_list)"
      ],
      "execution_count": null,
      "outputs": [
        {
          "output_type": "execute_result",
          "data": {
            "text/plain": [
              "5081000"
            ]
          },
          "metadata": {},
          "execution_count": 14
        }
      ]
    },
    {
      "cell_type": "code",
      "metadata": {
        "id": "3CjmT76wpOte"
      },
      "source": [
        "MAX_NUM_PROCESS = 10\n",
        "MAX_NUM_ELEMENT_BLOCK = 20\n",
        "MAX_NUM_IDS = 200"
      ],
      "execution_count": null,
      "outputs": []
    },
    {
      "cell_type": "code",
      "metadata": {
        "id": "UAgK_gwBtDBj"
      },
      "source": [
        "def save_array(file_name: str, array: np.array, path=dataset_dir):\n",
        "  print(len(array))\n",
        "  with open(f'{path}/{file_name}.npy', 'wb') as f:\n",
        "    np.save(f, array)"
      ],
      "execution_count": null,
      "outputs": []
    },
    {
      "cell_type": "code",
      "metadata": {
        "id": "1iQUnrjGOj2X"
      },
      "source": [
        "from multiprocessing import Pool\n",
        "pool = Pool(MAX_NUM_PROCESS)\n",
        "\n",
        "for file_id in range(1000, 1010):\n",
        "  each = music_ids_list[file_id * MAX_NUM_IDS: (file_id + 1) * MAX_NUM_IDS]\n",
        "  args = [each[(i * MAX_NUM_ELEMENT_BLOCK): ((i + 1) * MAX_NUM_ELEMENT_BLOCK)] \n",
        "          for i in range(int(len(each)/MAX_NUM_ELEMENT_BLOCK)+1)]\n",
        "  results = pool.map(block_management, args)\n",
        "  save_array(str(file_id), [each for result in results for each in result])"
      ],
      "execution_count": null,
      "outputs": []
    }
  ]
}