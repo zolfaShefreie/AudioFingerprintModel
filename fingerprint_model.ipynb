{
 "cells": [
  {
   "cell_type": "code",
   "execution_count": 10,
   "outputs": [],
   "source": [
    "# %reset"
   ],
   "metadata": {
    "collapsed": false,
    "pycharm": {
     "name": "#%%\n"
    }
   }
  },
  {
   "cell_type": "markdown",
   "source": [
    "<h2>Pre Process Dataset</h2>\n",
    "<h6>get dataset</br>\n",
    "split train and test data</br>\n",
    "spilt every matrix song to one second segment</br></h6>"
   ],
   "metadata": {
    "collapsed": false
   }
  },
  {
   "cell_type": "code",
   "execution_count": 25,
   "outputs": [
    {
     "data": {
      "text/plain": "(13281,)"
     },
     "execution_count": 25,
     "metadata": {},
     "output_type": "execute_result"
    }
   ],
   "source": [
    "import numpy as np\n",
    "\n",
    "DATASET_PATH = \"./all.npy\"\n",
    "with open(DATASET_PATH, 'rb') as f:\n",
    "    data = np.load(f, allow_pickle=True)\n",
    "data.shape"
   ],
   "metadata": {
    "collapsed": false,
    "pycharm": {
     "name": "#%%\n"
    }
   }
  },
  {
   "cell_type": "code",
   "execution_count": 26,
   "outputs": [
    {
     "data": {
      "text/plain": "((10624,), (2657,), (1995, 12))"
     },
     "execution_count": 26,
     "metadata": {},
     "output_type": "execute_result"
    }
   ],
   "source": [
    "from sklearn.model_selection import train_test_split\n",
    "\n",
    "data_train, data_test, _, _ = train_test_split(data, data, test_size=0.2, random_state=42)\n",
    "del data\n",
    "data_train.shape, data_test.shape, data_train[0].shape"
   ],
   "metadata": {
    "collapsed": false,
    "pycharm": {
     "name": "#%%\n"
    }
   }
  },
  {
   "cell_type": "code",
   "execution_count": 27,
   "outputs": [],
   "source": [
    "import librosa\n",
    "import tensorflow as tf\n"
   ],
   "metadata": {
    "collapsed": false,
    "pycharm": {
     "name": "#%%\n"
    }
   }
  },
  {
   "cell_type": "code",
   "execution_count": 28,
   "outputs": [],
   "source": [
    "sample_rate = 16000\n",
    "hop_length = int(sample_rate * 0.1)\n",
    "n_fft = int(sample_rate * 0.2)\n",
    "DIFF = 1\n",
    "allowed_duration = 10000\n",
    "special_value = -10\n",
    "frame_sec_indexes = [0, ] + [librosa.time_to_frames(i, sample_rate, n_fft=n_fft, hop_length=hop_length)\n",
    "                             for i in range(1, allowed_duration, DIFF)]\n",
    "\n",
    "max_frames_in_diff=max([frame_sec_indexes[i+1] - frame_sec_indexes[i] for i in range(len(frame_sec_indexes)-1)])"
   ],
   "metadata": {
    "collapsed": false,
    "pycharm": {
     "name": "#%%\n"
    }
   }
  },
  {
   "cell_type": "code",
   "execution_count": 29,
   "outputs": [],
   "source": [
    "def clean_frame_matrix(feature, start:int, end:int):\n",
    "    return_matrix = feature[start: end].tolist()\n",
    "    # add padding\n",
    "    return_matrix += [[special_value for j in range(12)]for k in range(max_frames_in_diff-len(return_matrix))]\n",
    "    return return_matrix\n",
    "\n",
    "def split_features(features):\n",
    "\n",
    "    split_features = np.empty((0, 10, 12))\n",
    "    # song_indexes = dict()\n",
    "    for i in range(len(features)):\n",
    "        # pre_len = len(split_features)\n",
    "        split_features = np.append(split_features,\n",
    "                                   np.array([clean_frame_matrix(features[i], frame_sec_indexes[index], frame_sec_indexes[index+1])\n",
    "                                             for index in range(len(frame_sec_indexes)-1)\n",
    "                                             if frame_sec_indexes[index] < len(features[i])]), axis=0)\n",
    "        # split_features += [clean_frame_matrix(features[i], frame_sec_indexes[index], frame_sec_indexes[index+1])\n",
    "        #                    for index in range(len(frame_sec_indexes)-1)\n",
    "        #                    if frame_sec_indexes[index] < len(features[i])]\n",
    "        print(f'\\r{i} done', end='\\r')\n",
    "\n",
    "        # add data to song_indexes {song3: (start_index, end_index), }\n",
    "        # song_indexes[i] = (pre_len, len(split_features))\n",
    "\n",
    "    return split_features\n"
   ],
   "metadata": {
    "collapsed": false,
    "pycharm": {
     "name": "#%%\n"
    }
   }
  },
  {
   "cell_type": "code",
   "execution_count": null,
   "outputs": [
    {
     "name": "stdout",
     "output_type": "stream",
     "text": [
      "4477 done\r"
     ]
    }
   ],
   "source": [
    "data_train = split_features(data_train)\n",
    "data_train.shape"
   ],
   "metadata": {
    "collapsed": false,
    "pycharm": {
     "name": "#%%\n",
     "is_executing": true
    }
   }
  },
  {
   "cell_type": "code",
   "execution_count": null,
   "outputs": [],
   "source": [
    "data_test = split_features(data_test)\n",
    "data_test.shape"
   ],
   "metadata": {
    "collapsed": false,
    "pycharm": {
     "name": "#%%\n"
    }
   }
  },
  {
   "cell_type": "markdown",
   "source": [
    "<h2>seq2seq model</h2>\n"
   ],
   "metadata": {
    "collapsed": false
   }
  },
  {
   "cell_type": "code",
   "execution_count": null,
   "outputs": [],
   "source": [
    "from keras.layers import LSTM, GRU, Dense, Input, RepeatVector, TimeDistributed, Masking\n",
    "from keras.models import Model\n",
    "\n",
    "tf.keras.backend.clear_session()\n",
    "\n",
    "encoder_inputs = Input(shape=(None, 12))\n",
    "masking = Masking(mask_value=special_value)(encoder_inputs)\n",
    "encoder = LSTM(128, return_state=True)\n",
    "encoder_outputs, state_h, state_c = encoder(masking)\n",
    "encoder_states = [state_h, state_c]\n",
    "# define training decoder\n",
    "decoder_inputs = RepeatVector(12)(encoder_outputs)\n",
    "\n",
    "# decoder_inputs = Input(shape=(None, 12))\n",
    "decoder_lstm = LSTM(128, return_sequences=True, return_state=True)\n",
    "decoder_outputs, _, _ = decoder_lstm(decoder_inputs, initial_state=encoder_states)\n",
    "decoder_time = TimeDistributed(Dense(12, activation='softmax'))\n",
    "decoder_outputs = decoder_time(decoder_outputs)\n",
    "model = Model(encoder_inputs, decoder_outputs)\n",
    "# define inference encoder\n",
    "encoder_model = Model(encoder_inputs, encoder_outputs)\n",
    "# define inference decoder\n",
    "decoder_state_input_h = Input(shape=(128,))\n",
    "decoder_state_input_c = Input(shape=(128,))\n",
    "decoder_inputs_layer = Input(shape=(12, 128))\n",
    "decoder_states_inputs = [decoder_state_input_h, decoder_state_input_c]\n",
    "decoder_outputs, state_h, state_c = decoder_lstm(decoder_inputs_layer, initial_state=decoder_states_inputs)\n",
    "decoder_states = [state_h, state_c]\n",
    "decoder_outputs = decoder_time(decoder_outputs)\n",
    "decoder_model = Model([decoder_inputs_layer] + decoder_states_inputs, [decoder_outputs] + decoder_states)"
   ],
   "metadata": {
    "collapsed": false,
    "pycharm": {
     "name": "#%%\n"
    }
   }
  },
  {
   "cell_type": "code",
   "execution_count": null,
   "outputs": [],
   "source": [
    "model.compile(optimizer=tf.keras.optimizers.Adam(), loss=tf.keras.losses.Huber())\n",
    "history = model.fit(data_train, data_train, epochs=20)\n",
    "history"
   ],
   "metadata": {
    "collapsed": false,
    "pycharm": {
     "name": "#%%\n"
    }
   }
  }
 ],
 "metadata": {
  "kernelspec": {
   "display_name": "Python 3",
   "language": "python",
   "name": "python3"
  },
  "language_info": {
   "codemirror_mode": {
    "name": "ipython",
    "version": 2
   },
   "file_extension": ".py",
   "mimetype": "text/x-python",
   "name": "python",
   "nbconvert_exporter": "python",
   "pygments_lexer": "ipython2",
   "version": "2.7.6"
  }
 },
 "nbformat": 4,
 "nbformat_minor": 0
}